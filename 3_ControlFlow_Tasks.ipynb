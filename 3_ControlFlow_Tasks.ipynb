{
  "nbformat": 4,
  "nbformat_minor": 0,
  "metadata": {
    "colab": {
      "provenance": [],
      "include_colab_link": true
    },
    "kernelspec": {
      "name": "python3",
      "display_name": "Python 3"
    },
    "language_info": {
      "name": "python"
    }
  },
  "cells": [
    {
      "cell_type": "markdown",
      "metadata": {
        "id": "view-in-github",
        "colab_type": "text"
      },
      "source": [
        "<a href=\"https://colab.research.google.com/github/Khadjiyev/Khadjiyev/blob/main/3_ControlFlow_Tasks.ipynb\" target=\"_parent\"><img src=\"https://colab.research.google.com/assets/colab-badge.svg\" alt=\"Open In Colab\"/></a>"
      ]
    },
    {
      "cell_type": "markdown",
      "source": [
        "Sən bir kitabxana giriş sistemini yazırsan. İstifadəçi yaşını və onun tələbə olub-olmadığını soruşmalısan.\n",
        "\n",
        "Giriş qaydaları belədir:\n",
        "\n",
        "Əgər istifadəçi 18 yaşdan kiçikdirsə və tələbədirsə, o zaman pulsuz giriş hüququ var.\n",
        "\n",
        "Əgər istifadəçi 18 yaşdan böyükdürsə və tələbə deyilsə, o zaman 5 AZN ödəniş tələb olunur.\n",
        "\n",
        "Əgər istifadəçi 18 yaşdan böyükdür və tələbədirsə, o zaman giriş 2 AZN-dir.\n",
        "\n",
        "Əks halda (18 yaşdan kiçik və tələbə deyilsə), giriş icazə verilmir.\n",
        "\n",
        "Kitabxanaya daxil olmaq istəyən istifadəçinin məlumatlarını input() funksiyasından istifadə edərək əldə edin."
      ],
      "metadata": {
        "id": "5hb_E9sAySmf"
      }
    },
    {
      "cell_type": "code",
      "execution_count": 1,
      "metadata": {
        "id": "vLq7Hfsvx9yH",
        "colab": {
          "base_uri": "https://localhost:8080/"
        },
        "outputId": "34128539-7e18-4105-b1ce-902dae84459c"
      },
      "outputs": [
        {
          "output_type": "stream",
          "name": "stdout",
          "text": [
            "Zəhmət olmasa, yaşınızı daxil edin: 24\n",
            "Tələbəsiniz? (bəli/xeyr): bəli\n",
            "Giriş haqqı 2 AZN-dir.\n"
          ]
        }
      ],
      "source": [
        "yaş = int(input(\"Zəhmət olmasa, yaşınızı daxil edin: \"))\n",
        "tələbə_statusu = input(\"Tələbəsiniz? (bəli/xeyr): \").lower()\n",
        "\n",
        "if yaş < 18:\n",
        "    # Yaş 18-dən kiçikdirsə, indi tələbə olub-olmadığını yoxlayaq\n",
        "    if tələbə_statusu == \"bəli\":\n",
        "        print(\"Pulsuz giriş hüququnuz var.\")\n",
        "    else: # 18-dən kiçik və tələbə deyilsə\n",
        "        print(\"Girişinizə icazə verilmir.\")\n",
        "else:\n",
        "    # Yaş 18 və ya daha yuxarıdırsa\n",
        "    if tələbə_statusu == \"bəli\":\n",
        "        print(\"Giriş haqqı 2 AZN-dir.\")\n",
        "    else: # 18 və ya yuxarı, tələbə deyilsə\n",
        "        print(\"Giriş haqqı 5 AZN-dir.\")"
      ]
    },
    {
      "cell_type": "markdown",
      "source": [
        "Bir xəstəxanada xəstələr müxtəlif şikayətlərlə gəlirlər. Həkim hər şikayət üçün əlavə müayinə yazır.\n",
        "\n",
        "Sən bir proqram yazmalısan ki, xəstənin hansı şikayətləri olduğunu soruşsun və hər birinə uyğun olaraq hansı müayinələrin yazıldığını çap etsin.\n",
        "\n",
        "Müraciət edən pasientdən 4 şikayət üzrə sual soruşulur və hər şikayətə uyğun müaayinə tövsiyə olunur.\n",
        "\n",
        "Vacib qeyd. Yuxarıdakı nümunədə olduğu kimi burada şikayətlər bir-birindən asılı deyil (nested if mövzusunu xatırlayın).  Hər bir xəstəlik üçün müayinə ayrıca tövsiyə\n",
        "\n",
        "Şikayətlər və müayinələr belədir:\n",
        "\n",
        "1. Əgər xəstə baş ağrısı varsa → Neyroloji müayinə\n",
        "\n",
        "2. Əgər boğaz ağrısı varsa → LOR müayinəsi\n",
        "\n",
        "3. Əgər qızdırma varsa → Qan analizi\n",
        "\n",
        "5. Əgər öskürək varsa → Ağciyər rentgeni\n"
      ],
      "metadata": {
        "id": "sGhXCSZIy5SJ"
      }
    },
    {
      "cell_type": "code",
      "source": [
        "baş_ağrısı = input(\"Baş ağrınız var? (bəli/xeyr): \").lower()\n",
        "boğaz_ağrısı = input(\"Boğaz ağrınız var? (bəli/xeyr): \").lower()\n",
        "qızdırma = input(\"Qızdırmanız var? (bəli/xeyr): \").lower()\n",
        "öskürək = input(\"Öskürəyiniz var? (bəli/xeyr): \").lower()\n",
        "\n",
        "print(\"\\nTövsiyə olunan müayinələr:\")\n",
        "\n",
        "if baş_ağrısı == \"bəli\":\n",
        "    print(\"- Neyroloji müayinə\")\n",
        "\n",
        "if boğaz_ağrısı == \"bəli\":\n",
        "    print(\"- LOR müayinəsi\")\n",
        "\n",
        "if qızdırma == \"bəli\":\n",
        "    print(\"- Qan analizi\")\n",
        "\n",
        "if öskürək == \"bəli\":\n",
        "    print(\"- Ağciyər rentgeni\")"
      ],
      "metadata": {
        "id": "rCONIRce5Ra_",
        "colab": {
          "base_uri": "https://localhost:8080/"
        },
        "outputId": "d5cbf223-5e8e-495e-f40e-9a82600dcc01"
      },
      "execution_count": 2,
      "outputs": [
        {
          "output_type": "stream",
          "name": "stdout",
          "text": [
            "Baş ağrınız var? (bəli/xeyr): xeyr\n",
            "Boğaz ağrınız var? (bəli/xeyr): xeyr\n",
            "Qızdırmanız var? (bəli/xeyr): xeyr\n",
            "Öskürəyiniz var? (bəli/xeyr): bəli\n",
            "\n",
            "Tövsiyə olunan müayinələr:\n",
            "- Ağciyər rentgeni\n"
          ]
        }
      ]
    },
    {
      "cell_type": "markdown",
      "source": [
        "Aşağıda biri fənnləri biri də həmin fənn üzrə tələbənin aldığı balları ehtiva edən iki list var. Bu listlər vasitəsilə tələbənin hər fənn üzrə aldığı qiyməti ekranda çap edin (print edin)."
      ],
      "metadata": {
        "id": "PB4l6Bi9MB3e"
      }
    },
    {
      "cell_type": "code",
      "source": [
        "subjects = [\"Mathematics\",\n",
        "            \"Statistics\",\n",
        "            \"Python Programming\",\n",
        "            \"Software Engineering\",\n",
        "            \"Cybersecurity\"]\n",
        "\n",
        "marks = [95, 100, 92, 85, 90]"
      ],
      "metadata": {
        "id": "2JuXrmh7M_bP"
      },
      "execution_count": null,
      "outputs": []
    },
    {
      "cell_type": "code",
      "source": [
        "# hər bir fənn üçün nəticə aşağıdakı kimi olmalıdır\n",
        "subject = \"Mathematics\"\n",
        "mark = \"95\"\n",
        "\"The mark of student for {} is {}\".format(subject, mark)"
      ],
      "metadata": {
        "colab": {
          "base_uri": "https://localhost:8080/",
          "height": 35
        },
        "id": "E2luKIUCMRcU",
        "outputId": "53fe18db-ad44-447b-bbc8-936dc53c0984"
      },
      "execution_count": null,
      "outputs": [
        {
          "output_type": "execute_result",
          "data": {
            "text/plain": [
              "'The mark of student for Mathematics is 95'"
            ],
            "application/vnd.google.colaboratory.intrinsic+json": {
              "type": "string"
            }
          },
          "metadata": {},
          "execution_count": 11
        }
      ]
    },
    {
      "cell_type": "code",
      "source": [
        "subjects = [\"Mathematics\",\n",
        "            \"Statistics\",\n",
        "            \"Python Programming\",\n",
        "            \"Software Engineering\",\n",
        "            \"Cybersecurity\"]\n",
        "\n",
        "marks = [95, 100, 92, 85, 90]\n",
        "\n",
        "for subject, mark in zip(subjects, marks):\n",
        "    print(\"The mark of student for {} is {}\".format(subject, mark))"
      ],
      "metadata": {
        "colab": {
          "base_uri": "https://localhost:8080/"
        },
        "id": "V-eEazli89FV",
        "outputId": "d8a9f7a2-24ae-44d0-af6d-71dfbf6e83f6"
      },
      "execution_count": 6,
      "outputs": [
        {
          "output_type": "stream",
          "name": "stdout",
          "text": [
            "The mark of student for Mathematics is 95\n",
            "The mark of student for Statistics is 100\n",
            "The mark of student for Python Programming is 92\n",
            "The mark of student for Software Engineering is 85\n",
            "The mark of student for Cybersecurity is 90\n"
          ]
        }
      ]
    },
    {
      "cell_type": "markdown",
      "source": [
        "Aşağıdakı iki cür məhsul siyahısı var:\n",
        "\n",
        "1. List in the dict - dictionary-nin value hissəsində list tipində element durur. Bu list-in 1-ci elementi qiymət, 2-ci elementi məhsul sayıdır (tapşırığın məqsədləri üçün bunu satılan məhsul sayı kimi başa düşək).\n",
        "\n",
        "2. Nested dictionary - dictionary-nin value hissəsində dict tipində element durur. Burada qiymət və say-ın hansı olduğunu key elementlərin adından anlamaq mümkündür.\n",
        "\n",
        "Verilən tapşırığı hər iki dictionary üzərindən edin:\n",
        "\n",
        "Məhsul dictinory-də **hər bir məhsul** üçün qiymət və say üzərindən hesablama aparmaqla o məhsuldan əldə olunan gəliri tapın və nəticəni ekranda çap edin."
      ],
      "metadata": {
        "id": "fOx6KRFtyjzG"
      }
    },
    {
      "cell_type": "code",
      "source": [
        "products_dict = {\"apple\": [5, 10],\n",
        "                 \"banana\": [3, 2],\n",
        "                 \"pear\": [4, 3],\n",
        "                 \"grapefruit\": [5, 2],\n",
        "                 \"grapes\": [3, 5],\n",
        "                 \"strawberry\": [3, 20]}\n",
        "\n",
        "products_dict"
      ],
      "metadata": {
        "colab": {
          "base_uri": "https://localhost:8080/"
        },
        "id": "BCGTZ_HPEk4s",
        "outputId": "cb13c357-fb13-43d0-ba4a-0242d5818d9f"
      },
      "execution_count": null,
      "outputs": [
        {
          "output_type": "execute_result",
          "data": {
            "text/plain": [
              "{'apple': [5, 10],\n",
              " 'banana': [3, 2],\n",
              " 'pear': [4, 3],\n",
              " 'grapefruit': [5, 2],\n",
              " 'grapes': [3, 5],\n",
              " 'strawberry': [3, 20]}"
            ]
          },
          "metadata": {},
          "execution_count": 3
        }
      ]
    },
    {
      "cell_type": "code",
      "source": [
        "prod_detailed_dict = {\"apple\": {\"price\": 5, \"quantity\": 10},\n",
        "                      \"banana\": {\"price\": 3, \"quantity\": 2},\n",
        "                      \"pear\": {\"price\": 4, \"quantity\": 3},\n",
        "                      \"grapefruit\": {\"price\": 5, \"quantity\": 2},\n",
        "                      \"grapes\": {\"price\": 3, \"quantity\": 5},\n",
        "                      \"strawberry\": {\"price\": 3, \"quantity\": 20}}\n",
        "\n",
        "prod_detailed_dict"
      ],
      "metadata": {
        "colab": {
          "base_uri": "https://localhost:8080/"
        },
        "id": "-0Jeqsk2Gc_f",
        "outputId": "6f502ca2-cb64-49c8-8135-74188b2bc2bd"
      },
      "execution_count": null,
      "outputs": [
        {
          "output_type": "execute_result",
          "data": {
            "text/plain": [
              "{'apple': {'price': 5, 'quantity': 10},\n",
              " 'banana': {'price': 3, 'quantity': 2},\n",
              " 'pear': {'price': 4, 'quantity': 3},\n",
              " 'grapefruit': {'price': 5, 'quantity': 2},\n",
              " 'grapes': {'price': 3, 'quantity': 5},\n",
              " 'strawberry': {'price': 3, 'quantity': 20}}"
            ]
          },
          "metadata": {},
          "execution_count": 2
        }
      ]
    },
    {
      "cell_type": "markdown",
      "source": [
        "Aşağıda sizə bir parol verilib. Bu istifadəçinin daxil etməli olduğu paroldur.\n",
        "\n",
        "Loop yaratmaqla istifadəçidən doğru cavab daxil edənə qədər parolu soruşun."
      ],
      "metadata": {
        "id": "AVefESt7QGPZ"
      }
    },
    {
      "cell_type": "code",
      "source": [
        "passcode = \"101828343\""
      ],
      "metadata": {
        "id": "KDXYKZVpQF2W"
      },
      "execution_count": null,
      "outputs": []
    },
    {
      "cell_type": "code",
      "source": [
        "passcode = \"101828343\"\n",
        "while True:\n",
        "  cavab = input(\"Zəhmət olmasa, parolu daxil edin.\")\n",
        "  if cavab == passcode:\n",
        "    print(\"Giriş uğurludur!\")\n",
        "    break\n",
        "  else:\n",
        "    print(\"Səhv parol. Zəhmət olmasa, yenidən cəhd edin.\")\n"
      ],
      "metadata": {
        "colab": {
          "base_uri": "https://localhost:8080/"
        },
        "id": "QYLTyUJD-BO7",
        "outputId": "ae882958-4152-44bc-d0e3-3d4df6afd5ae"
      },
      "execution_count": 11,
      "outputs": [
        {
          "output_type": "stream",
          "name": "stdout",
          "text": [
            "Zəhmət olmasa, parolu daxil edin.1\n",
            "Səhv parol. Zəhmət olmasa, yenidən cəhd edin.\n",
            "Zəhmət olmasa, parolu daxil edin.2\n",
            "Səhv parol. Zəhmət olmasa, yenidən cəhd edin.\n",
            "Zəhmət olmasa, parolu daxil edin.3\n",
            "Səhv parol. Zəhmət olmasa, yenidən cəhd edin.\n",
            "Zəhmət olmasa, parolu daxil edin.101828343\n",
            "Giriş uğurludur!\n"
          ]
        }
      ]
    },
    {
      "cell_type": "markdown",
      "source": [
        "Müxtəlif kiçik riyazi tapşırıqlardan ibarət bir siyahı tərtib edin (tapşırıqlar string formatında olsun, məsələn, \"2 + 3\"). List istədiyiniz uzunluqda ola bilər.\n",
        "\n",
        "Sonra istifadəçiyə bu tapşırıqları sual şəklində yönləndirən bir proqram tərtib edib. Proqram hər bir tapşırığı növbə ilə soruşur və hər doğru cavaba görə istifadəçiyə 1 bal verir. İstifadəçi 5 bal yığanda oyun dayanır və qalib olur. Əgər heç vaxt 5 bala çatmasa, oyun adi qaydada davam edir."
      ],
      "metadata": {
        "id": "futFWweePJq_"
      }
    },
    {
      "cell_type": "code",
      "source": [
        "questions = [\"2 + 3\", \"10 - 4\", \"5 * 5\", \"12 / 6\", \"7 + 8\", \"15 - 9\", \"4 * 3\", \"20 / 4\"]\n",
        "answers = [5, 6, 25, 2, 15, 6, 12, 5]\n",
        "\n",
        "score = 0\n",
        "question_index = 0\n",
        "winning_score = 5\n",
        "\n",
        "while score < winning_score and question_index < len(questions):\n",
        "    try:\n",
        "        user_answer = int(input(f\"Tapşırığı həll edin: {questions[question_index]} = \"))\n",
        "\n",
        "        if user_answer == answers[question_index]:\n",
        "            score += 1\n",
        "            print(f\"Doğru cavab! Hal-hazırda balınız: {score}\")\n",
        "        else:\n",
        "            print(f\"Səhv cavab. Doğru cavab {answers[question_index]} idi.\")\n",
        "\n",
        "        question_index += 1\n",
        "\n",
        "    except ValueError:\n",
        "        print(\"Səhv format. Zəhmət olmasa, tam ədəd daxil edin.\")\n",
        "\n",
        "if score == winning_score:\n",
        "    print(\"Təbriklər! Siz 5 bal yığdınız və oyunu qazandınız!\")\n",
        "else:\n",
        "    print(f\"\\nOyun bitdi. Son balınız: {score}\")\n"
      ],
      "metadata": {
        "id": "AdPb9sEIPKEr",
        "colab": {
          "base_uri": "https://localhost:8080/"
        },
        "outputId": "9ead7086-e08e-446e-b339-7552ebc98e99"
      },
      "execution_count": 23,
      "outputs": [
        {
          "output_type": "stream",
          "name": "stdout",
          "text": [
            "Tapşırığı həll edin: 2 + 3 = 5\n",
            "Doğru cavab! Hal-hazırda balınız: 1\n",
            "Tapşırığı həll edin: 10 - 4 = 6\n",
            "Doğru cavab! Hal-hazırda balınız: 2\n",
            "Tapşırığı həll edin: 5 * 5 = 25\n",
            "Doğru cavab! Hal-hazırda balınız: 3\n",
            "Tapşırığı həll edin: 12 / 6 = 2\n",
            "Doğru cavab! Hal-hazırda balınız: 4\n",
            "Tapşırığı həll edin: 7 + 8 = 15\n",
            "Doğru cavab! Hal-hazırda balınız: 5\n",
            "Təbriklər! Siz 5 bal yığdınız və oyunu qazandınız!\n"
          ]
        }
      ]
    },
    {
      "cell_type": "markdown",
      "source": [
        "### Guessing Game - dərsdə birlikdə işləmək üçün tapşırıq.\n",
        "\n",
        "While loop köməyilə aşağıdakı kimi bir proqram yazın. Tapşırıq aşağıdakı işi görməlidir:\n",
        "\n",
        "Siz ürəyinizdə [0,100] aralığında bir ədəd tutursunuz. Proqram sizə ilk random bir ədəd qaytarır (bu ədədi default olaraq 50 də seçə bilərsiniz ki) və seçdiyiniz ədədin bu olub-olmadığını soruşur (soruşmaq varsa, deməliç hansı funksiyadan istifadə etməliyik?). Siz isə ona sadəcə \"higher\" və \"lower\" sözləri ilə təxminini daha yuxarı, ya daha aşağı ədədlə əvəz etməli olduğunu deyirsiniz, ya da \"right\" sözündən istifadə edərək ədədi doğru təxmin etdiyini deyirsiniz (sözləri uzun yazmaq əvəzinə h, l, r hərfləri ilə də cavablaya bilərik.)"
      ],
      "metadata": {
        "id": "NkP4jOkYNdsT"
      }
    },
    {
      "cell_type": "code",
      "source": [],
      "metadata": {
        "id": "Idqnu1h6IzKg"
      },
      "execution_count": null,
      "outputs": []
    },
    {
      "cell_type": "markdown",
      "source": [
        "Gündəlik həyatınıza aid bir iterativ, bir şərti, bir də ardıcıl control flow nümunəsi verin."
      ],
      "metadata": {
        "id": "u4_vf6GjQ2dN"
      }
    },
    {
      "cell_type": "code",
      "source": [],
      "metadata": {
        "id": "QkNimsPRRAPw"
      },
      "execution_count": null,
      "outputs": []
    },
    {
      "cell_type": "code",
      "source": [
        "for i in [1,2,3,4,5]:\n",
        "  pass\n",
        "print(i)"
      ],
      "metadata": {
        "colab": {
          "base_uri": "https://localhost:8080/"
        },
        "id": "ZKgXaINuBwxB",
        "outputId": "846089f4-9d65-4f85-dd9d-2b4b394f5d03"
      },
      "execution_count": null,
      "outputs": [
        {
          "output_type": "stream",
          "name": "stdout",
          "text": [
            "5\n"
          ]
        }
      ]
    },
    {
      "cell_type": "code",
      "source": [
        "for i in [1,2,3,4,5]:\n",
        "  pass\n",
        "  print(i)"
      ],
      "metadata": {
        "colab": {
          "base_uri": "https://localhost:8080/"
        },
        "id": "y9BxmkXbB0Mr",
        "outputId": "e85b8899-efea-4e84-d3a7-5ecc2f9e48aa"
      },
      "execution_count": null,
      "outputs": [
        {
          "output_type": "stream",
          "name": "stdout",
          "text": [
            "1\n",
            "2\n",
            "3\n",
            "4\n",
            "5\n"
          ]
        }
      ]
    },
    {
      "cell_type": "code",
      "source": [],
      "metadata": {
        "id": "5zXIPdw_B4Ah"
      },
      "execution_count": null,
      "outputs": []
    }
  ]
}