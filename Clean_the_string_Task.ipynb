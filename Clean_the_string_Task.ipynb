{
  "nbformat": 4,
  "nbformat_minor": 0,
  "metadata": {
    "colab": {
      "provenance": [],
      "include_colab_link": true
    },
    "kernelspec": {
      "name": "python3",
      "display_name": "Python 3"
    },
    "language_info": {
      "name": "python"
    }
  },
  "cells": [
    {
      "cell_type": "markdown",
      "metadata": {
        "id": "view-in-github",
        "colab_type": "text"
      },
      "source": [
        "<a href=\"https://colab.research.google.com/github/Khadjiyev/Khadjiyev/blob/main/Clean_the_string_Task.ipynb\" target=\"_parent\"><img src=\"https://colab.research.google.com/assets/colab-badge.svg\" alt=\"Open In Colab\"/></a>"
      ]
    },
    {
      "cell_type": "code",
      "source": [
        "# @title Aşağıdakı mətnlərin ancaq ilk cümləsini \"slicing\" üsulu vasitəsilə çıxarıb başqa bir dəyişənə mənimsədin.\n",
        "\n",
        "string1 = \"This is the first sentence. This is the second sentence. This is the third sentence. This is the fourth sentence.\"\n",
        "string2 = \"Here is another string with multiple sentences. It includes a short sentence. Followed by a slightly longer one. And finally, a concluding sentence to meet the requirement.\"\n",
        "string3 = \"A third example string. This sentence is somewhat lengthy, providing more context. Another sentence follows. And one more to be sure.\"\n",
        "string4 = \"The last string variable. It also contains several sentences. Demonstrating different lengths and structures. Ending with a final point.\"\n",
        "\n",
        "print(string1)\n",
        "print(string2)\n",
        "print(string3)\n",
        "print(string4)"
      ],
      "metadata": {
        "colab": {
          "base_uri": "https://localhost:8080/"
        },
        "id": "hJv3QA9AVWa1",
        "outputId": "1d48ec0b-f379-4bbf-adf4-9ca10a46facf",
        "cellView": "form"
      },
      "execution_count": null,
      "outputs": [
        {
          "output_type": "stream",
          "name": "stdout",
          "text": [
            "This is the first sentence. This is the second sentence. This is the third sentence. This is the fourth sentence.\n",
            "Here is another string with multiple sentences. It includes a short sentence. Followed by a slightly longer one. And finally, a concluding sentence to meet the requirement.\n",
            "A third example string. This sentence is somewhat lengthy, providing more context. Another sentence follows. And one more to be sure.\n",
            "The last string variable. It also contains several sentences. Demonstrating different lengths and structures. Ending with a final point.\n"
          ]
        }
      ]
    },
    {
      "cell_type": "code",
      "source": [],
      "metadata": {
        "colab": {
          "base_uri": "https://localhost:8080/"
        },
        "id": "FWb3r42SIp_Y",
        "outputId": "3c323bf4-5f67-4939-ac9d-fbaaf3e0aec0"
      },
      "execution_count": 5,
      "outputs": [
        {
          "output_type": "stream",
          "name": "stdout",
          "text": [
            "This is the first sentence.\n",
            "Here is another string with multiple sentences.\n",
            "A third example string.\n",
            "The last string variable.\n"
          ]
        }
      ]
    },
    {
      "cell_type": "code",
      "source": [
        "# @title Aşağıdakı mətnlərin ancaq ilk sözünü \"slicing\" üsulu vasitəsilə çıxarıb başqa bir dəyişənə mənimsədin.\n",
        "\n",
        "string1 = \"This is the first sentence. This is the second sentence. This is the third sentence. This is the fourth sentence.\"\n",
        "string2 = \"Here is another string with multiple sentences. It includes a short sentence. Followed by a slightly longer one. And finally, a concluding sentence to meet the requirement.\"\n",
        "string3 = \"A third example string. This sentence is somewhat lengthy, providing more context. Another sentence follows. And one more to be sure.\"\n",
        "string4 = \"The last string variable. It also contains several sentences. Demonstrating different lengths and structures. Ending with a final point.\"\n",
        "\n",
        "print(string1)\n",
        "print(string2)\n",
        "print(string3)\n",
        "print(string4)"
      ],
      "metadata": {
        "id": "uxxpJ6l3WCne",
        "cellView": "form"
      },
      "execution_count": null,
      "outputs": []
    },
    {
      "cell_type": "code",
      "source": [
        "string1 = \"This is the first sentence. This is the second sentence. This is the third sentence. This is the fourth sentence.\"\n",
        "string2 = \"Here is another string with multiple sentences. It includes a short sentence. Followed by a slightly longer one. And finally, a concluding sentence to meet the requirement.\"\n",
        "string3 = \"A third example string. This sentence is somewhat lengthy, providing more context. Another sentence follows. And one more to be sure.\"\n",
        "string4 = \"The last string variable. It also contains several sentences. Demonstrating different lengths and structures. Ending with a final point.\"\n",
        "# Extract the first word using slicing\n",
        "first_word1 = string1[:string1.find(' ')]\n",
        "first_word2 = string2[:string2.find(' ')]\n",
        "first_word3 = string3[:string3.find(' ')]\n",
        "first_word4 = string4[:string4.find(' ')]\n",
        "\n",
        "print(first_word1)\n",
        "print(first_word2)\n",
        "print(first_word3)\n",
        "print(first_word4)\n"
      ],
      "metadata": {
        "colab": {
          "base_uri": "https://localhost:8080/"
        },
        "id": "rDlPR7qdR7ym",
        "outputId": "ef5de13a-22c4-4096-a71a-f783eaec98d5"
      },
      "execution_count": 8,
      "outputs": [
        {
          "output_type": "stream",
          "name": "stdout",
          "text": [
            "This\n",
            "Here\n",
            "A\n",
            "The\n"
          ]
        }
      ]
    },
    {
      "cell_type": "code",
      "source": [
        "# @title Aşağıdakı 'sentence' string və 'fruits' list dəyişənindən istifadə etməklə nöqtələrin yerinə listdəki meyvələri sadalayaraq cümlə yaradın.\n",
        "\n",
        "# nəticə bu şəkildə görünməlidir.\n",
        "example_result = \"We have apple, banana, orange, grape, strawberry, watermelon in our store.\"\n",
        "print(example_result)\n",
        "\n",
        "sentence = \"We have ... in our store.\"\n",
        "fruits = [\"apple\", \"banana\", \"orange\", \"grape\", \"strawberry\", \"watermelon\"]\n",
        "print(fruits)"
      ],
      "metadata": {
        "colab": {
          "base_uri": "https://localhost:8080/"
        },
        "id": "1m0Bir1kS6P3",
        "outputId": "e28b2879-5a33-4c05-c60d-87a409d4fa20"
      },
      "execution_count": null,
      "outputs": [
        {
          "output_type": "stream",
          "name": "stdout",
          "text": [
            "['apple', 'banana', 'orange', 'grape', 'strawberry', 'watermelon']\n"
          ]
        }
      ]
    },
    {
      "cell_type": "code",
      "source": [],
      "metadata": {
        "colab": {
          "base_uri": "https://localhost:8080/"
        },
        "id": "D1AYpoOWLeJ2",
        "outputId": "9010e311-610c-43f1-86c0-03a75cdd0bb6"
      },
      "execution_count": 9,
      "outputs": [
        {
          "output_type": "stream",
          "name": "stdout",
          "text": [
            "We have apple, banana, orange, grape, strawberry, watermelon in our store.\n"
          ]
        }
      ]
    },
    {
      "cell_type": "code",
      "source": [
        " # @title Aşağıdakı əməliyyatların niyə bu şəkildə işlədiyini araşdırın.\n",
        "\n",
        " print(\"a\" > 'b')\n",
        " print(\"table\" < \"utilization\")\n",
        " print('b' == 'B')"
      ],
      "metadata": {
        "colab": {
          "base_uri": "https://localhost:8080/"
        },
        "id": "aNuRhpePXAoj",
        "outputId": "95657438-7df7-4e85-b582-6630fb49507e"
      },
      "execution_count": 10,
      "outputs": [
        {
          "output_type": "stream",
          "name": "stdout",
          "text": [
            "False\n",
            "True\n",
            "False\n"
          ]
        }
      ]
    },
    {
      "cell_type": "code",
      "source": [
        "# Əməliyyatları yoxlayırıq\n",
        "print(\"a\" > 'b')            # False\n",
        "print(\"table\" < \"utilization\")  # True\n",
        "print('b' == 'B')           # False\n",
        "# \"a\" > \"b\" → False, çünki \"a\" ASCII dəyəri 97, \"b\" isə 98-dir\n",
        "# \"table\" < \"utilization\" → True, çünki ilk hərfləri müqayisə edirik: 't' < 'u'\n",
        "# 'b' == 'B' → False, çünki 'b' və 'B' fərqli ASCII dəyərlərə malikdir (98 != 66)"
      ],
      "metadata": {
        "colab": {
          "base_uri": "https://localhost:8080/"
        },
        "id": "BddzsCrcMg6P",
        "outputId": "29caef59-67a1-45a0-bf8b-4e8fab10668b"
      },
      "execution_count": 11,
      "outputs": [
        {
          "output_type": "stream",
          "name": "stdout",
          "text": [
            "False\n",
            "True\n",
            "False\n"
          ]
        }
      ]
    },
    {
      "cell_type": "code",
      "source": [
        " # @title Aşağıdakı \"print\" statementlərin niyə fərqli nəticə verdiyini araşdırın.\n",
        " print(\"Hello\"+\"Sitara\")\n",
        " print(\"Hello\", \"Sitara\")\n",
        " print(\"Hello\", 3)\n",
        " print(\"Hello\" + str(3))\n",
        " print(\"Hello\" + 3)"
      ],
      "metadata": {
        "colab": {
          "base_uri": "https://localhost:8080/",
          "height": 241
        },
        "id": "1feJLKaUXZ2O",
        "outputId": "85acfcc3-584c-4f83-cfb5-dcf98466a7e5"
      },
      "execution_count": 13,
      "outputs": [
        {
          "output_type": "stream",
          "name": "stdout",
          "text": [
            "HelloSitara\n",
            "Hello Sitara\n",
            "Hello 3\n",
            "Hello3\n"
          ]
        },
        {
          "output_type": "error",
          "ename": "TypeError",
          "evalue": "can only concatenate str (not \"int\") to str",
          "traceback": [
            "\u001b[0;31m---------------------------------------------------------------------------\u001b[0m",
            "\u001b[0;31mTypeError\u001b[0m                                 Traceback (most recent call last)",
            "\u001b[0;32m/tmp/ipython-input-3699063467.py\u001b[0m in \u001b[0;36m<cell line: 0>\u001b[0;34m()\u001b[0m\n\u001b[1;32m      4\u001b[0m \u001b[0mprint\u001b[0m\u001b[0;34m(\u001b[0m\u001b[0;34m\"Hello\"\u001b[0m\u001b[0;34m,\u001b[0m \u001b[0;36m3\u001b[0m\u001b[0;34m)\u001b[0m\u001b[0;34m\u001b[0m\u001b[0;34m\u001b[0m\u001b[0m\n\u001b[1;32m      5\u001b[0m \u001b[0mprint\u001b[0m\u001b[0;34m(\u001b[0m\u001b[0;34m\"Hello\"\u001b[0m \u001b[0;34m+\u001b[0m \u001b[0mstr\u001b[0m\u001b[0;34m(\u001b[0m\u001b[0;36m3\u001b[0m\u001b[0;34m)\u001b[0m\u001b[0;34m)\u001b[0m\u001b[0;34m\u001b[0m\u001b[0;34m\u001b[0m\u001b[0m\n\u001b[0;32m----> 6\u001b[0;31m \u001b[0mprint\u001b[0m\u001b[0;34m(\u001b[0m\u001b[0;34m\"Hello\"\u001b[0m \u001b[0;34m+\u001b[0m \u001b[0;36m3\u001b[0m\u001b[0;34m)\u001b[0m\u001b[0;34m\u001b[0m\u001b[0;34m\u001b[0m\u001b[0m\n\u001b[0m",
            "\u001b[0;31mTypeError\u001b[0m: can only concatenate str (not \"int\") to str"
          ]
        }
      ]
    },
    {
      "cell_type": "code",
      "source": [
        " # @title Aşağıdakı \"print\" statementlərin niyə fərqli nəticə verdiyini araşdırın.\n",
        " print(\"Hello\"+\"Sitara\")\n",
        " print(\"Hello\", \"Sitara\")\n",
        " print(\"Hello\", 3)\n",
        " print(\"Hello\" + str(3))\n",
        " print(\"Hello\" + 3)\n",
        "\n",
        " #  print(\"Hello\" + 3) sehv netice vermeyinin sebebi + operatoru yalniz stringleri birlesdirir\n",
        " print(\"Hello\" + str(3))"
      ],
      "metadata": {
        "colab": {
          "base_uri": "https://localhost:8080/",
          "height": 275
        },
        "id": "dCoRtQB2M8Ir",
        "outputId": "03f9e302-2e7f-4594-beb9-b6b9d027acc7"
      },
      "execution_count": 16,
      "outputs": [
        {
          "output_type": "stream",
          "name": "stdout",
          "text": [
            "HelloSitara\n",
            "Hello Sitara\n",
            "Hello 3\n",
            "Hello3\n"
          ]
        },
        {
          "output_type": "error",
          "ename": "TypeError",
          "evalue": "can only concatenate str (not \"int\") to str",
          "traceback": [
            "\u001b[0;31m---------------------------------------------------------------------------\u001b[0m",
            "\u001b[0;31mTypeError\u001b[0m                                 Traceback (most recent call last)",
            "\u001b[0;32m/tmp/ipython-input-2621569760.py\u001b[0m in \u001b[0;36m<cell line: 0>\u001b[0;34m()\u001b[0m\n\u001b[1;32m      4\u001b[0m \u001b[0mprint\u001b[0m\u001b[0;34m(\u001b[0m\u001b[0;34m\"Hello\"\u001b[0m\u001b[0;34m,\u001b[0m \u001b[0;36m3\u001b[0m\u001b[0;34m)\u001b[0m\u001b[0;34m\u001b[0m\u001b[0;34m\u001b[0m\u001b[0m\n\u001b[1;32m      5\u001b[0m \u001b[0mprint\u001b[0m\u001b[0;34m(\u001b[0m\u001b[0;34m\"Hello\"\u001b[0m \u001b[0;34m+\u001b[0m \u001b[0mstr\u001b[0m\u001b[0;34m(\u001b[0m\u001b[0;36m3\u001b[0m\u001b[0;34m)\u001b[0m\u001b[0;34m)\u001b[0m\u001b[0;34m\u001b[0m\u001b[0;34m\u001b[0m\u001b[0m\n\u001b[0;32m----> 6\u001b[0;31m \u001b[0mprint\u001b[0m\u001b[0;34m(\u001b[0m\u001b[0;34m\"Hello\"\u001b[0m \u001b[0;34m+\u001b[0m \u001b[0;36m3\u001b[0m\u001b[0;34m)\u001b[0m\u001b[0;34m\u001b[0m\u001b[0;34m\u001b[0m\u001b[0m\n\u001b[0m\u001b[1;32m      7\u001b[0m \u001b[0;34m\u001b[0m\u001b[0m\n\u001b[1;32m      8\u001b[0m \u001b[0;31m#  print(\"Hello\" + 3) sehv netice vermeyinin sebebi + operatoru yalniz stringleri birlesdirir\u001b[0m\u001b[0;34m\u001b[0m\u001b[0;34m\u001b[0m\u001b[0m\n",
            "\u001b[0;31mTypeError\u001b[0m: can only concatenate str (not \"int\") to str"
          ]
        }
      ]
    },
    {
      "cell_type": "markdown",
      "source": [
        "[Python string documentation](https://docs.python.org/3/library/string.html)\n",
        "\n",
        "[Python built-in functions](https://docs.python.org/3/library/functions.html#print)\n",
        "\n",
        "Bu linkdən \"P\" hərfindən \"print()\" funksiyasını seçərək onun haqqında oxuyun."
      ],
      "metadata": {
        "id": "6EPHwIRoW0oH"
      }
    }
  ]
}